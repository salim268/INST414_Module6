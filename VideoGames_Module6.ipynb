{
  "nbformat": 4,
  "nbformat_minor": 0,
  "metadata": {
    "colab": {
      "provenance": []
    },
    "kernelspec": {
      "name": "python3",
      "display_name": "Python 3"
    },
    "language_info": {
      "name": "python"
    }
  },
  "cells": [
    {
      "cell_type": "code",
      "execution_count": 5,
      "metadata": {
        "colab": {
          "base_uri": "https://localhost:8080/"
        },
        "id": "rczYH88Uz1BF",
        "outputId": "e441c008-4729-4f1c-9ca7-2b0cf0bad5bb"
      },
      "outputs": [
        {
          "output_type": "stream",
          "name": "stdout",
          "text": [
            "Initial Dataset Preview:\n",
            "   Unnamed: 0                        name  \\\n",
            "0           0                  Spider-Man   \n",
            "1           1      Red Dead Redemption II   \n",
            "2           2          Grand Theft Auto V   \n",
            "3           3                  God of War   \n",
            "4           4  Uncharted 4: A Thief's End   \n",
            "\n",
            "                                                 url    year certificate  \\\n",
            "0  https://www.imdb.com/title/tt5807780/?ref_=adv...  2018.0           T   \n",
            "1  https://www.imdb.com/title/tt6161168/?ref_=adv...  2018.0           M   \n",
            "2  https://www.imdb.com/title/tt2103188/?ref_=adv...  2013.0           M   \n",
            "3  https://www.imdb.com/title/tt5838588/?ref_=adv...  2018.0           M   \n",
            "4  https://www.imdb.com/title/tt3334704/?ref_=adv...  2016.0           T   \n",
            "\n",
            "   rating   votes                                               plot  Action  \\\n",
            "0     9.2  20,759  When a new villain threatens New York City, Pe...    True   \n",
            "1     9.7  35,703  Amidst the decline of the Wild West at the tur...    True   \n",
            "2     9.5  59,986  Three very different criminals team up for a s...    True   \n",
            "3     9.6  26,118  After wiping out the gods of Mount Olympus, Kr...    True   \n",
            "4     9.5  28,722  Thrown back into the dangerous underworld he'd...    True   \n",
            "\n",
            "   Adventure  Comedy  Crime  Family  Fantasy  Mystery  Sci-Fi  Thriller  \n",
            "0       True   False  False   False     True    False   False     False  \n",
            "1       True   False   True   False    False    False   False     False  \n",
            "2      False   False   True   False    False    False   False     False  \n",
            "3       True   False  False   False    False    False   False     False  \n",
            "4       True   False  False   False    False    False   False     False  \n",
            "\n",
            "Missing Values in Each Column:\n",
            "Unnamed: 0         0\n",
            "name               0\n",
            "url                0\n",
            "year             267\n",
            "certificate    12900\n",
            "rating          9203\n",
            "votes           9203\n",
            "plot               0\n",
            "Action             0\n",
            "Adventure          0\n",
            "Comedy             0\n",
            "Crime              0\n",
            "Family             0\n",
            "Fantasy            0\n",
            "Mystery            0\n",
            "Sci-Fi             0\n",
            "Thriller           0\n",
            "dtype: int64\n",
            "\n",
            "Cleaned Dataset Preview:\n",
            "   Unnamed: 0                        name  \\\n",
            "0           0                  Spider-Man   \n",
            "1           1      Red Dead Redemption II   \n",
            "2           2          Grand Theft Auto V   \n",
            "3           3                  God of War   \n",
            "4           4  Uncharted 4: A Thief's End   \n",
            "\n",
            "                                                 url    year certificate  \\\n",
            "0  https://www.imdb.com/title/tt5807780/?ref_=adv...  2018.0           T   \n",
            "1  https://www.imdb.com/title/tt6161168/?ref_=adv...  2018.0           M   \n",
            "2  https://www.imdb.com/title/tt2103188/?ref_=adv...  2013.0           M   \n",
            "3  https://www.imdb.com/title/tt5838588/?ref_=adv...  2018.0           M   \n",
            "4  https://www.imdb.com/title/tt3334704/?ref_=adv...  2016.0           T   \n",
            "\n",
            "   rating    votes                                               plot  Action  \\\n",
            "0     9.2  20759.0  When a new villain threatens New York City, Pe...    True   \n",
            "1     9.7  35703.0  Amidst the decline of the Wild West at the tur...    True   \n",
            "2     9.5  59986.0  Three very different criminals team up for a s...    True   \n",
            "3     9.6  26118.0  After wiping out the gods of Mount Olympus, Kr...    True   \n",
            "4     9.5  28722.0  Thrown back into the dangerous underworld he'd...    True   \n",
            "\n",
            "   Adventure  Comedy  Crime  Family  Fantasy  Mystery  Sci-Fi  Thriller  \n",
            "0       True   False  False   False     True    False   False     False  \n",
            "1       True   False   True   False    False    False   False     False  \n",
            "2      False   False   True   False    False    False   False     False  \n",
            "3       True   False  False   False    False    False   False     False  \n",
            "4       True   False  False   False    False    False   False     False  \n",
            "\n",
            "Cleaned dataset saved to cleaned_dataset.csv\n"
          ]
        },
        {
          "output_type": "stream",
          "name": "stderr",
          "text": [
            "<ipython-input-5-5c064fdefaf9>:27: SettingWithCopyWarning: \n",
            "A value is trying to be set on a copy of a slice from a DataFrame.\n",
            "Try using .loc[row_indexer,col_indexer] = value instead\n",
            "\n",
            "See the caveats in the documentation: https://pandas.pydata.org/pandas-docs/stable/user_guide/indexing.html#returning-a-view-versus-a-copy\n",
            "  data_cleaned[numeric_features] = data_cleaned[numeric_features].fillna(data_cleaned[numeric_features].mean())\n",
            "<ipython-input-5-5c064fdefaf9>:31: SettingWithCopyWarning: \n",
            "A value is trying to be set on a copy of a slice from a DataFrame.\n",
            "Try using .loc[row_indexer,col_indexer] = value instead\n",
            "\n",
            "See the caveats in the documentation: https://pandas.pydata.org/pandas-docs/stable/user_guide/indexing.html#returning-a-view-versus-a-copy\n",
            "  data_cleaned[genre_features] = data_cleaned[genre_features].fillna(0)\n"
          ]
        }
      ],
      "source": [
        "# Import necessary libraries\n",
        "import pandas as pd\n",
        "\n",
        "# Load dataset from a CSV file\n",
        "file_path = \"/content/imdb-videogames[1].csv\"\n",
        "data = pd.read_csv(file_path)\n",
        "\n",
        "# Display the first few rows of the dataset\n",
        "print(\"Initial Dataset Preview:\")\n",
        "print(data.head())\n",
        "\n",
        "# Remove commas from 'votes' column and convert to numeric\n",
        "if 'votes' in data.columns:\n",
        "    data['votes'] = data['votes'].str.replace(',', '').astype(float)\n",
        "\n",
        "# Check for missing values\n",
        "missing_values = data.isnull().sum()\n",
        "print(\"\\nMissing Values in Each Column:\")\n",
        "print(missing_values)\n",
        "\n",
        "# Drop rows with missing target variable ('rating') values\n",
        "data_cleaned = data.dropna(subset=['rating'])\n",
        "\n",
        "# Handle missing values in feature columns\n",
        "numeric_features = ['year', 'votes']\n",
        "data_cleaned[numeric_features] = data_cleaned[numeric_features].fillna(data_cleaned[numeric_features].mean())\n",
        "\n",
        "genre_features = ['Action', 'Adventure', 'Comedy', 'Crime', 'Family', 'Fantasy', 'Mystery', 'Sci-Fi', 'Thriller']\n",
        "data_cleaned[genre_features] = data_cleaned[genre_features].fillna(0)\n",
        "\n",
        "# Remove duplicates if any\n",
        "data_cleaned = data_cleaned.drop_duplicates()\n",
        "data_cleaned[numeric_features] = data_cleaned[numeric_features].apply(pd.to_numeric, errors='coerce')\n",
        "\n",
        "# Display the cleaned dataset\n",
        "print(\"\\nCleaned Dataset Preview:\")\n",
        "print(data_cleaned.head())\n",
        "\n",
        "# Save the cleaned dataset to a new file (optional)\n",
        "cleaned_file_path = \"cleaned_dataset.csv\"\n",
        "data_cleaned.to_csv(cleaned_file_path, index=False)\n",
        "print(f\"\\nCleaned dataset saved to {cleaned_file_path}\")\n"
      ]
    },
    {
      "cell_type": "code",
      "source": [
        "# Import necessary libraries\n",
        "from sklearn.model_selection import train_test_split\n",
        "from sklearn.ensemble import RandomForestRegressor\n",
        "from sklearn.metrics import mean_squared_error, mean_absolute_error\n",
        "\n",
        "# Use the cleaned dataset from your earlier process\n",
        "cleaned_file_path = \"/content/cleaned_dataset.csv\"\n",
        "data_cleaned = pd.read_csv(cleaned_file_path)\n",
        "\n",
        "# Feature Selection\n",
        "X = data_cleaned[['year', 'votes', 'Action', 'Adventure', 'Comedy', 'Crime', 'Family', 'Fantasy', 'Mystery', 'Sci-Fi', 'Thriller']]\n",
        "y = data_cleaned['rating']\n",
        "\n",
        "# Split the data into training and testing sets\n",
        "X_train, X_test, y_train, y_test = train_test_split(X, y, test_size=0.2, random_state=42)\n",
        "\n",
        "# Train a Random Forest Regressor\n",
        "model = RandomForestRegressor(random_state=42)\n",
        "model.fit(X_train, y_train)\n",
        "\n",
        "# Make predictions\n",
        "y_pred = model.predict(X_test)\n",
        "\n",
        "# Evaluate the model\n",
        "mse = mean_squared_error(y_test, y_pred)\n",
        "mae = mean_absolute_error(y_test, y_pred)\n",
        "\n",
        "# Display evaluation metrics\n",
        "print(f\"Mean Squared Error (MSE): {mse}\")\n",
        "print(f\"Mean Absolute Error (MAE): {mae}\")\n"
      ],
      "metadata": {
        "colab": {
          "base_uri": "https://localhost:8080/"
        },
        "id": "0GrrVDlR2exc",
        "outputId": "8d52dacb-2b18-458e-b2ea-f51e5a508576"
      },
      "execution_count": 9,
      "outputs": [
        {
          "output_type": "stream",
          "name": "stdout",
          "text": [
            "Mean Squared Error (MSE): 1.3762249524635954\n",
            "Mean Absolute Error (MAE): 0.8559535528743287\n"
          ]
        }
      ]
    },
    {
      "cell_type": "code",
      "source": [
        "# Ensure indices are reset for consistency\n",
        "y_test = y_test.reset_index(drop=True)\n",
        "y_pred = pd.Series(y_pred, name=\"Predicted Rating\")\n",
        "X_test = X_test.reset_index(drop=True)\n",
        "game_names = data_cleaned.loc[X_test.index, 'name'].reset_index(drop=True)\n",
        "\n",
        "error_analysis = pd.DataFrame({\n",
        "    'Game': game_names,\n",
        "    'Actual Rating': y_test,\n",
        "    'Predicted Rating': y_pred,\n",
        "    'Error': y_test - y_pred\n",
        "})\n",
        "\n",
        "# Sort by the largest absolute errors\n",
        "error_analysis['Absolute Error'] = abs(error_analysis['Error'])\n",
        "error_analysis = error_analysis.sort_values(by='Absolute Error', ascending=False)\n",
        "\n",
        "# Display the top 5 samples with the largest errors\n",
        "print(\"\\nTop 5 Samples with Largest Errors:\")\n",
        "print(error_analysis.head())\n"
      ],
      "metadata": {
        "colab": {
          "base_uri": "https://localhost:8080/"
        },
        "id": "JPnilYz50TRZ",
        "outputId": "c2cf9905-b0ee-4ba9-d8d9-520ad1938084"
      },
      "execution_count": 11,
      "outputs": [
        {
          "output_type": "stream",
          "name": "stdout",
          "text": [
            "\n",
            "Top 5 Samples with Largest Errors:\n",
            "                                         Game  Actual Rating  \\\n",
            "1109  Ratchet & Clank Future: A Crack in Time            1.4   \n",
            "2034                                    Rambo            1.3   \n",
            "1841                               Drakengard            2.2   \n",
            "169          Wolfenstein II: The New Colossus            1.8   \n",
            "80                                  Minecraft            2.0   \n",
            "\n",
            "      Predicted Rating     Error  Absolute Error  \n",
            "1109          7.467000 -6.067000        6.067000  \n",
            "2034          6.971700 -5.671700        5.671700  \n",
            "1841          7.565833 -5.365833        5.365833  \n",
            "169           6.900000 -5.100000        5.100000  \n",
            "80            7.051000 -5.051000        5.051000  \n"
          ]
        }
      ]
    }
  ]
}